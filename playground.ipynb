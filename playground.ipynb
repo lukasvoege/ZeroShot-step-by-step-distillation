{
 "cells": [
  {
   "cell_type": "code",
   "execution_count": 1,
   "metadata": {},
   "outputs": [
    {
     "name": "stderr",
     "output_type": "stream",
     "text": [
      "c:\\Projects\\MasterThesis\\ZeroShot-step-by-step-distillation\\.venv\\lib\\site-packages\\tqdm\\auto.py:21: TqdmWarning: IProgress not found. Please update jupyter and ipywidgets. See https://ipywidgets.readthedocs.io/en/stable/user_install.html\n",
      "  from .autonotebook import tqdm as notebook_tqdm\n"
     ]
    }
   ],
   "source": [
    "from src.teacher_query_tools import ANLITeacherQuerier, CQATeacherQuerier, ESNLITeacherQuerier, SVAMPTeacherQuerier"
   ]
  },
  {
   "cell_type": "markdown",
   "metadata": {},
   "source": [
    "## Teacher Querier"
   ]
  },
  {
   "cell_type": "code",
   "execution_count": 2,
   "metadata": {},
   "outputs": [],
   "source": [
    "anliTQ = ANLITeacherQuerier()"
   ]
  },
  {
   "cell_type": "code",
   "execution_count": 9,
   "metadata": {},
   "outputs": [
    {
     "name": "stdout",
     "output_type": "stream",
     "text": [
      "\n",
      "Premise: The Parma trolleybus system (Italian: \"Rete filoviaria di Parma\" ) forms part of the public transport network of the city and \"comune\" of Parma, in the region of Emilia-Romagna, northern Italy. In operation since 1953, the system presently comprises four urban routes.\\nClaim: The trolleybus system has over 2 urban routes\\n\\nWhy is the hypothesis \"entailment\" towards the premise? Answer in a single sentence starting with: \"The hypothesis is \"entailment\" towards the premise, because...\"\n",
      "RESPONSE:\n",
      "The hypothesis is \"entailment\" towards the premise because it directly supports and aligns with the statement that the Parma trolleybus system presently comprises four urban routes, indicating that there are indeed over two urban routes in the system.\n"
     ]
    }
   ],
   "source": [
    "anliTQ._query(split=\"train\", idx=0, prompt_template_id=179, dont_save=True)"
   ]
  },
  {
   "cell_type": "code",
   "execution_count": 3,
   "metadata": {},
   "outputs": [
    {
     "name": "stdout",
     "output_type": "stream",
     "text": [
      "QUERYING EXAMPLE 10/10 (9)...\n",
      "Batch Query completed! (Skipped 0 queries as they were already queried and stored.)\n",
      "Total Prompt Tokens: 1438\n",
      "Total Completion Tokens: 390\n",
      "Total Costs: $0.002937\n"
     ]
    },
    {
     "data": {
      "text/plain": [
       "(1438, 390, 0.002937)"
      ]
     },
     "execution_count": 3,
     "metadata": {},
     "output_type": "execute_result"
    }
   ],
   "source": [
    "anliTQ._batch_query(split=\"train\", idxs=list(range(10)), prompt_template_id=179, force_query=False)"
   ]
  },
  {
   "cell_type": "code",
   "execution_count": 7,
   "metadata": {},
   "outputs": [],
   "source": [
    "svampTQ = SVAMPTeacherQuerier()"
   ]
  },
  {
   "cell_type": "code",
   "execution_count": 8,
   "metadata": {},
   "outputs": [
    {
     "name": "stdout",
     "output_type": "stream",
     "text": [
      "Batch Query completed! (Skipped 30 queries as they were already queried and stored.)\n",
      "Total Prompt Tokens: 566\n",
      "Total Completion Tokens: 635\n",
      "Total Costs: $0.002119\n"
     ]
    }
   ],
   "source": [
    "svampTQ._batch_query(split=\"train\", idxs=list(range(41)), prompt_template_id=1, force_query=False)"
   ]
  },
  {
   "cell_type": "code",
   "execution_count": 24,
   "metadata": {},
   "outputs": [],
   "source": [
    "esnli = ESNLITeacherQuerier()"
   ]
  },
  {
   "cell_type": "code",
   "execution_count": 26,
   "metadata": {},
   "outputs": [
    {
     "name": "stdout",
     "output_type": "stream",
     "text": [
      "Batch Query completed! (Skipped 2 queries as they were already queried and stored.)\n",
      "Total Prompt Tokens: 0\n",
      "Total Completion Tokens: 0\n",
      "Total Costs: $0\n"
     ]
    }
   ],
   "source": [
    "esnli._batch_query(split=\"train\", idxs=[0, 34191], prompt_template_id=1, force_query=False, dont_save=True)"
   ]
  },
  {
   "cell_type": "code",
   "execution_count": 11,
   "metadata": {},
   "outputs": [],
   "source": [
    "cqaTQ = CQATeacherQuerier()"
   ]
  },
  {
   "cell_type": "code",
   "execution_count": 12,
   "metadata": {},
   "outputs": [
    {
     "name": "stdout",
     "output_type": "stream",
     "text": [
      "Batch Query completed! (Skipped 3 queries as they were already queried and stored.)\n",
      "Total Prompt Tokens: 148\n",
      "Total Completion Tokens: 58\n",
      "Total Costs: $0.000338\n"
     ]
    }
   ],
   "source": [
    "cqaTQ._batch_query(split=\"train\", idxs=[0, 1, 2, 100, 200], prompt_template_id=2, force_query=False)"
   ]
  },
  {
   "cell_type": "markdown",
   "metadata": {},
   "source": [
    "## Parser"
   ]
  },
  {
   "cell_type": "code",
   "execution_count": 1,
   "metadata": {},
   "outputs": [],
   "source": [
    "from src.teacher_response_parser import SVAMPTeacherResponseParser, ESNLITeacherResponseParser, CQATeacherResponseParser, ANLITeacherResponseParser\n",
    "import re"
   ]
  },
  {
   "cell_type": "code",
   "execution_count": 4,
   "metadata": {},
   "outputs": [],
   "source": [
    "parser = CQATeacherResponseParser()"
   ]
  },
  {
   "cell_type": "code",
   "execution_count": 22,
   "metadata": {},
   "outputs": [
    {
     "data": {
      "text/plain": [
       "('lol',\n",
       " 'fire because coal is commonly used as a fuel source to ignite and sustain fires.')"
      ]
     },
     "execution_count": 22,
     "metadata": {},
     "output_type": "execute_result"
    }
   ],
   "source": [
    "pattern = re.compile(\"(balls|a\\)|b\\)|c\\)|d\\)|e\\)|1\\)|2\\)|3\\)|4\\)|5\\)|1\\.|2\\.|3\\.|4\\.|5\\.).?(.*)\", re.IGNORECASE|re.DOTALL)\n",
    "parser.parse_response(\"The correct answer is a) fire because coal is commonly used as a fuel source to ignite and sustain fires.\", pattern=pattern, prompt_values={\"choice_a\": \"lol\"})"
   ]
  },
  {
   "cell_type": "code",
   "execution_count": 60,
   "metadata": {},
   "outputs": [],
   "source": [
    "pattern = re.compile(\"(.+\\\\b)(\\d+)\")\n",
    "match = pattern.search(\"In each row, there are 30 crayons, so in 7 rows there are 7 * 30 <<7*30=210>>210 crayons. Answer: \\\\boxed{210}.\")"
   ]
  },
  {
   "cell_type": "code",
   "execution_count": 5,
   "metadata": {},
   "outputs": [
    {
     "name": "stdout",
     "output_type": "stream",
     "text": [
      "Could not parse 'The widest variety of rocks can be found on the surface of the Earth, as it is the planet we have extensively studied and explored.' with pattern 're.compile('(ground|waterfall|surface of earth|museum|atmosphere|a\\\\)|b\\\\)|c\\\\)|d\\\\)|e\\\\)|1\\\\)|2\\\\)|3\\\\)|4\\\\)|5\\\\)|1\\\\.|2\\\\.|3\\\\.|4\\\\.|5\\\\.).?(.*)', re.IGNORECASE|re.DOTALL)'\n",
      "Could not parse 'The shape of wood can be changed by carving it, as this involves removing or shaping the wood to create a desired form.' with pattern 're.compile('(nailed|grind|carved|polished|warp|a\\\\)|b\\\\)|c\\\\)|d\\\\)|e\\\\)|1\\\\)|2\\\\)|3\\\\)|4\\\\)|5\\\\)|1\\\\.|2\\\\.|3\\\\.|4\\\\.|5\\\\.).?(.*)', re.IGNORECASE|re.DOTALL)'\n"
     ]
    },
    {
     "data": {
      "text/plain": [
       "{3312: ('cupboard',\n",
       "  'cupboard - This is the most common and appropriate place to store dried silverware until you are ready to use them, as it keeps them clean and organized.'),\n",
       " 3668: ('classroom',\n",
       "  'at a university, as it is a common setting for students pursuing higher education.'),\n",
       " 7535: ('major city',\n",
       "  'Major city - Hospitals are typically located in major cities, making them easily accessible for travelers in case of medical emergencies.'),\n",
       " 5225: ('tradition',\n",
       "  'demanded it, as they were expected to conform to societal expectations and norms.'),\n",
       " 9617: ('baseball',\n",
       "  'baseball - You can go to a sporting goods store to buy baseball uniform tops specifically designed for the sport.'),\n",
       " 1599: ('landscape',\n",
       "  'landscape - The teenager perceived the landscape as plain because of their anguished state of mind.'),\n",
       " 8560: ('kitchen cabinet',\n",
       "  'because it provides a designated space to keep dishes organized and out of sight when not in use.'),\n",
       " 2927: ('embarrassment',\n",
       "  \"embarrassment - Her husband likely felt embarrassed by his wife's behavior, as it was inappropriate and drew attention in public.\"),\n",
       " 1650: ('wakefulness',\n",
       "  \"wakefulness - Sam couldn't fall asleep because he was experiencing a state of wakefulness.\"),\n",
       " 1618: ('oils',\n",
       "  \"oils - Sally can use hair oils to massage and rub her own hair, providing the tactile sensation she enjoys without needing to cut or manipulate someone else's hair.\"),\n",
       " 7478: ('making more money',\n",
       "  'making more money - Gaining more land can provide the farmer with additional opportunities for increasing their agricultural production and thus generating more income.'),\n",
       " 8355: ('mexico',\n",
       "  'Mexico - Mexican cuisine originates from Mexico, as it is the country where the dishes, ingredients, and cooking techniques associated with Mexican cuisine were first developed.'),\n",
       " 3131: ('office',\n",
       "  'office - An office is specifically designed for work and often includes a desk and comfortable seating, making it an ideal space to work from home.'),\n",
       " 8147: ('classroom',\n",
       "  'classroom: People go to classrooms to gain knowledge because it is a structured environment where they can learn from a teacher and interact with peers.'),\n",
       " 8383: ('room',\n",
       "  'room - A satchel can be stored in a room, such as a bedroom or study, where it is easily accessible and can be kept safe.'),\n",
       " 6974: ('board ship',\n",
       "  'Board ship - This answer suggests that a person heading overseas would need to board a ship to travel to their destination.'),\n",
       " 7857: ('liquor cabinet',\n",
       "  \"liquor cabinet - Spirits in this context refer to alcoholic beverages, which are commonly found in a house's liquor cabinet.\"),\n",
       " 4582: ('sweating', None),\n",
       " 4222: ('sit down',\n",
       "  'Sit down - Sitting down allows your legs to rest and recover from fatigue without necessarily falling asleep or going to bed.'),\n",
       " 2145: ('hospital',\n",
       "  'hospital These patients were likely coming from the hospital because traumatic mouth injuries often require immediate medical attention and are often referred to dental offices from emergency rooms or trauma centers.'),\n",
       " 4606: ('compassion',\n",
       "  'compassion - Understanding the people around him better leads to deeper compassion, as he is able to empathize and connect with them on a deeper level.'),\n",
       " 4924: ('supermarket',\n",
       "  \"supermarket - Sam's job as a cashier and the hectic nature of his work suggest that he works in a busy environment with constant customer interactions, which is commonly found in supermarkets.\"),\n",
       " 5356: ('front porch',\n",
       "  'front porch - This is the most common and convenient location for the morning paper to be delivered as it allows easy access for the homeowner to retrieve it.'),\n",
       " 5151: ('restroom',\n",
       "  'restroom - The context of the sentence suggests that people coming into the restroom would find the spraying faucet annoying and gross.'),\n",
       " 1103: ('school grade',\n",
       "  'school grade - If you did well on the test, your overall performance in the class will be reflected in your school grade.'),\n",
       " 5876: ('ring',\n",
       "  'ring - People may break into a brownstone to steal valuable jewelry, such as rings, as they can be easily sold for a high price on the black market.'),\n",
       " 2777: ('big house',\n",
       "  \"big house - This answer is supported by the fact that the spoiled child's playroom is described as massive, suggesting that it is part of a larger house.\"),\n",
       " 7771: ('at the store',\n",
       "  'at the store, (b) computer store, (c) cupboard, (d) pantry, or (e) own home, as they are all possible places where a mouse could be accidentally trapped or seeking shelter.'),\n",
       " 5642: ('use mobile phone',\n",
       "  'use mobile phone - The driver could become distracted by using their mobile phone, taking their attention away from the road.'),\n",
       " 6193: ('washing dishes',\n",
       "  'washing dishes - Someone takes the responsibility to clean up the dishes and restore order in the kitchen.'),\n",
       " 3685: ('go to jail',\n",
       "  'go to jail - James is worried that if he commits perjury, he could be discovered, charged, and ultimately imprisoned for his false testimony.'),\n",
       " 970: ('study history',\n",
       "  'study history - This is because history is the study of past events and would provide the student with knowledge about things that have already happened.'),\n",
       " 794: ('feet',\n",
       "  'feet - You would use your feet to stand up because they provide the necessary support and balance to keep your body upright.'),\n",
       " 1608: (None, None),\n",
       " 8377: ('backyard',\n",
       "  'backyard - I would put my shed in the backyard because it provides a convenient and easily accessible location for storing items while keeping them separate from the main living space.'),\n",
       " 8310: ('rainforest',\n",
       "  'because it provides ample food sources, natural cover, and familiar surroundings for these arboreal creatures.'),\n",
       " 782: ('movie theatre',\n",
       "  'because you are purchasing tickets for a specific film.'),\n",
       " 7110: ('insomnia',\n",
       "  'insomnia - Insomnia is a sleep disorder that can prevent someone from falling asleep or staying asleep.'),\n",
       " 4217: ('deaths',\n",
       "  'Deaths - If someone is hit by a vehicle while driving, there is a risk of fatal injuries leading to their death.'),\n",
       " 251: ('apartment',\n",
       "  'apartment - The roommates would sleep in the two bedrooms, leaving one roommate to sleep on the couch in their shared apartment.'),\n",
       " 349: ('guilty conscience',\n",
       "  \"guilty conscience - The man's guilt and remorse from committing the murder made him constantly hear the sound of the victim's heartbeat as a reminder of his terrible deed.\"),\n",
       " 2127: ('tide pool',\n",
       "  'tide pool - The crab was likely impeded by the shallow water and uneven terrain of the tide pool, making it difficult for him to move freely.'),\n",
       " 7865: ('canada',\n",
       "  'Canada - Because Canada is located north of the U.S. and there are barber shops available across the country.'),\n",
       " 321: ('warm house',\n",
       "  'Bob wants to warm up the house by lighting a fire in the wood stove during winter.'),\n",
       " 8851: ('community',\n",
       "  'community - A school should ideally be located in a community to ensure accessibility and convenience for students and their families.'),\n",
       " 3941: (None, None),\n",
       " 1576: ('bathroom',\n",
       "  'because it is a convenient and easily accessible location.'),\n",
       " 764: ('speak information',\n",
       "  'Speak information - Verbal communication allows for immediate expression of thoughts and ideas, facilitating direct sharing of information from your mind.'),\n",
       " 7634: ('ground',\n",
       "  'because they provide nutrients as they decompose, contributing to the health of the soil and supporting the growth of other plants.'),\n",
       " 2492: ('feel loved',\n",
       "  'The mom liked giving assistance to her children because it made her feel loved and fulfilled as a parent.'),\n",
       " 2870: ('london',\n",
       "  'London - The red telephone boxes are commonly associated with London, making it the most likely place for tourists to find them.'),\n",
       " 96: ('eat healthy food',\n",
       "  'Eat healthy food - By consuming a balanced diet with proper portion control and adequate nutrition, the person can create a calorie deficit and promote weight loss.'),\n",
       " 7024: ('cool off',\n",
       "  'The person might be trying to cool off by getting wet as water can help lower body temperature.'),\n",
       " 3400: ('building', 'used for storing vehicles and other items.'),\n",
       " 6567: ('amount to nothing',\n",
       "  'Amount to nothing - This phrase implies that the person has not achieved any significant accomplishments or success.'),\n",
       " 5281: ('rabbit warren', 'a perfect hunting ground for him.'),\n",
       " 637: ('bread pan',\n",
       "  'bread pan - The sourdough starter rises inside the bread pan as it undergoes fermentation and produces carbon dioxide, causing the dough to rise.'),\n",
       " 7087: ('sail boats',\n",
       "  'Sail boats - People engage in the pastime of sailing when they are traveling along liquid, specifically by using sailboats.'),\n",
       " 4989: ('england',\n",
       "  'England - She always wanted to live in a brick row house in England because of its foggy weather and the charm and history associated with English architecture.'),\n",
       " 1550: ('water',\n",
       "  'water - The filtering straw is used to remove germs and impurities from the water they come across during their hike.'),\n",
       " 6797: ('earn money',\n",
       "  \"as it provides financial stability and the means to support oneself and one's family.\"),\n",
       " 7579: ('lower prices',\n",
       "  'lower prices - When inflation is fought, there is a decrease in the overall price levels, leading to lower prices at stores.'),\n",
       " 4541: ('regret',\n",
       "  \"regret - Jim stopped taking phone calls because he didn't want to talk with his family, as it caused him too much regret.\"),\n",
       " 119: ('danish',\n",
       "  'since it is lost in Copenhagen, which is located in Denmark.'),\n",
       " 567: ('earning money',\n",
       "  'earning money - He wanted to accomplish financial stability and security by consistently working and earning money.'),\n",
       " 4329: ('rich',\n",
       "  'rich - It is possible for someone to grow up poor and end up rich through hard work, determination, and seizing opportunities.'),\n",
       " 6198: ('anger',\n",
       "  'nger - Losing in soccer can often lead to feelings of frustration and disappointment, which can manifest as anger.'),\n",
       " 8946: ('spare room',\n",
       "  'A spare room is the most appropriate location for a sofabed that is solely intended for accommodating guests.'),\n",
       " 7743: ('store',\n",
       "  'store - Whipped cream is typically sold in stores in cans or tubs, making it easily accessible for purchase.'),\n",
       " 39: ('palace',\n",
       "  'palace - A gentleman who is very wealthy and flaunts it is likely to live in a palace as it is a symbol of opulence and grandeur.'),\n",
       " 2407: ('insights',\n",
       "  'insights - The man believed that by sitting quietly, he could access deeper levels of thought and gain valuable insights about various aspects of life.'),\n",
       " 263: ('prison',\n",
       "  \"prison - Ben's mistake and involvement in the accident led to his incarceration for 8 years.\"),\n",
       " 8825: ('michigan',\n",
       "  'New York, or any city where public transportation is available.'),\n",
       " 7191: ('pantry',\n",
       "  'pantry - Canned goods are commonly stored in a pantry as it is a designated area specifically for storing food items, including canned goods.'),\n",
       " 1793: ('reflection',\n",
       "  'reflection - She was contemplating which make-up to wear because she was taking the time to reflect on her personal style and preferences.')}"
      ]
     },
     "execution_count": 5,
     "metadata": {},
     "output_type": "execute_result"
    }
   ],
   "source": [
    "parser.parse_response_batch(split=\"train\", prompt_template_id=2, verbose= True)"
   ]
  },
  {
   "cell_type": "code",
   "execution_count": 61,
   "metadata": {},
   "outputs": [
    {
     "data": {
      "text/plain": [
       "('In each row, there are 30 crayons, so in 7 rows there are 7 * 30 <<7*30=210>>210 crayons. Answer: \\\\boxed{',\n",
       " '210')"
      ]
     },
     "execution_count": 61,
     "metadata": {},
     "output_type": "execute_result"
    }
   ],
   "source": [
    "match.groups()"
   ]
  },
  {
   "cell_type": "code",
   "execution_count": 6,
   "metadata": {},
   "outputs": [
    {
     "data": {
      "text/plain": [
       "{0: ('42', None),\n",
       " 1: ('210', None),\n",
       " 2: ('34', 'Julia played with a total of'),\n",
       " 3: ('6', None),\n",
       " 4: ('7', None),\n",
       " 5: ('1088', 'The mailman should give a total of'),\n",
       " 6: ('0.5', 'Each person ate 0.5 crackers and'),\n",
       " 7: ('280', None),\n",
       " 8: ('5', None),\n",
       " 9: ('13', None),\n",
       " 10: ('12', None),\n",
       " 11: ('150', None),\n",
       " 12: ('60', None),\n",
       " 13: ('69', None),\n",
       " 14: ('9', None),\n",
       " 15: ('204', 'The farmer picked a total of'),\n",
       " 16: ('180', 'The machine made a total of'),\n",
       " 17: ('18', None),\n",
       " 18: ('18', 'The number of birds sitting on the fence is'),\n",
       " 19: ('8', None),\n",
       " 20: ('2', None),\n",
       " 21: ('60', 'The depth of the water was'),\n",
       " 22: ('66', 'The grasshopper and the frog jumped a total of'),\n",
       " 23: ('89', None),\n",
       " 24: ('130', None),\n",
       " 25: ('2', None),\n",
       " 26: ('32', None),\n",
       " 27: ('154', None),\n",
       " 28: ('345', None),\n",
       " 29: ('1', None),\n",
       " 696: ('2', None),\n",
       " 667: ('4', None),\n",
       " 63: ('12', None),\n",
       " 533: ('26', None),\n",
       " 66: ('3', None),\n",
       " 621: ('51', None),\n",
       " 346: ('7', None),\n",
       " 490: ('238', None),\n",
       " 760: ('4', None),\n",
       " 456: ('1', None)}"
      ]
     },
     "execution_count": 6,
     "metadata": {},
     "output_type": "execute_result"
    }
   ],
   "source": [
    "parser.parse_response_batch(split=\"train\", prompt_template_id=3)"
   ]
  },
  {
   "cell_type": "code",
   "execution_count": 10,
   "metadata": {},
   "outputs": [
    {
     "data": {
      "text/plain": [
       "'Tell me a funny joke about chickens.'"
      ]
     },
     "execution_count": 10,
     "metadata": {},
     "output_type": "execute_result"
    }
   ],
   "source": [
    "\n",
    "s = \"Tell me a {adjective} joke about {content}.\"\n",
    "\n",
    "s.format(**{\"adjective\": \"funny\", \"content\": \"chickens\", \"mashall\": \"mashall\"})\n",
    "#(**{\"adjective\": \"funny\", \"content\": \"chickens\", \"mashall\": \"mashall\"})"
   ]
  },
  {
   "cell_type": "markdown",
   "metadata": {},
   "source": [
    "## Utils"
   ]
  },
  {
   "cell_type": "code",
   "execution_count": 1,
   "metadata": {},
   "outputs": [],
   "source": [
    "import utils"
   ]
  },
  {
   "cell_type": "code",
   "execution_count": 2,
   "metadata": {},
   "outputs": [],
   "source": [
    "c1 = utils.Metadata()\n",
    "c2 = utils.OtherMeta()"
   ]
  },
  {
   "cell_type": "code",
   "execution_count": 3,
   "metadata": {},
   "outputs": [
    {
     "data": {
      "text/plain": [
       "'another static'"
      ]
     },
     "execution_count": 3,
     "metadata": {},
     "output_type": "execute_result"
    }
   ],
   "source": [
    "c2.static_thing"
   ]
  },
  {
   "cell_type": "markdown",
   "metadata": {},
   "source": [
    "## Evaluator"
   ]
  },
  {
   "cell_type": "code",
   "execution_count": 2,
   "metadata": {},
   "outputs": [],
   "source": [
    "from src.teacher_response_evaluator import TeacherResponseEvaluator"
   ]
  },
  {
   "cell_type": "code",
   "execution_count": 5,
   "metadata": {},
   "outputs": [],
   "source": [
    "evaluator = TeacherResponseEvaluator(\"esnli\")"
   ]
  },
  {
   "cell_type": "code",
   "execution_count": 9,
   "metadata": {},
   "outputs": [
    {
     "data": {
      "text/plain": [
       "{'accuracy': 0.76,\n",
       " 'n_correct': 38,\n",
       " 'n_wrong': 12,\n",
       " 'n_parse_errors': 0,\n",
       " 'n_none_responses': 0,\n",
       " 'total_responses': 50,\n",
       " 'total_length_of_explanations': 7145}"
      ]
     },
     "execution_count": 9,
     "metadata": {},
     "output_type": "execute_result"
    }
   ],
   "source": [
    "evaluator.evaluate_responses_split(split = \"train\", prompt_template_id = 2)"
   ]
  },
  {
   "cell_type": "code",
   "execution_count": 4,
   "metadata": {},
   "outputs": [
    {
     "name": "stdout",
     "output_type": "stream",
     "text": [
      "Could not parse '8 customers left than those that stayed behind.' with pattern 're.compile('(.+[\\\\s{\\\\$â‚¬])(\\\\d*\\\\.?\\\\d+)', re.IGNORECASE|re.DOTALL)'\n",
      "Could not parse '137 more students suggested mashed potatoes than those that suggested bacon.' with pattern 're.compile('(.+[\\\\s\\\\{\\\\$â‚¬])(\\\\d*\\\\.?\\\\d+)', re.IGNORECASE|re.DOTALL)'\n",
      "Could not parse '34 bird families were living near the mountain at the start.' with pattern 're.compile('(.+[\\\\s\\\\{\\\\$â‚¬])(\\\\d*\\\\.?\\\\d+)', re.IGNORECASE|re.DOTALL)'\n",
      "Could not parse '65 more students suggested mashed potatoes than those that suggested tomatoes.' with pattern 're.compile('(.+[\\\\s\\\\{\\\\$â‚¬])(\\\\d*\\\\.?\\\\d+)', re.IGNORECASE|re.DOTALL)'\n",
      "Could not parse '30 campers went rowing and hiking in all.' with pattern 're.compile('(.+[\\\\s\\\\{\\\\$â‚¬])(\\\\d*\\\\.?\\\\d+)', re.IGNORECASE|re.DOTALL)'\n",
      "Best prompt template for svamp is 2, with accuracy: 0.7936507936507936\n"
     ]
    },
    {
     "data": {
      "text/plain": [
       "'2'"
      ]
     },
     "execution_count": 4,
     "metadata": {},
     "output_type": "execute_result"
    }
   ],
   "source": [
    "evaluator.evaluate_train()"
   ]
  },
  {
   "cell_type": "markdown",
   "metadata": {},
   "source": [
    "## Dataset Writer"
   ]
  },
  {
   "cell_type": "code",
   "execution_count": 1,
   "metadata": {},
   "outputs": [],
   "source": [
    "from teacher_writer import TeacherWriter\n",
    "tw = TeacherWriter(\"svamp\")"
   ]
  },
  {
   "cell_type": "code",
   "execution_count": 19,
   "metadata": {},
   "outputs": [],
   "source": [
    "mix = {\"label\": {1: range(10)}, \"explanation\": {2: range(10)}}"
   ]
  },
  {
   "cell_type": "code",
   "execution_count": 20,
   "metadata": {},
   "outputs": [],
   "source": [
    "tw.write_teacher_responses(split=\"train\", prompt_template_id_mix=mix)"
   ]
  },
  {
   "cell_type": "markdown",
   "metadata": {},
   "source": [
    "# Plain Langchain"
   ]
  },
  {
   "cell_type": "code",
   "execution_count": 3,
   "metadata": {},
   "outputs": [
    {
     "data": {
      "text/plain": [
       "True"
      ]
     },
     "execution_count": 3,
     "metadata": {},
     "output_type": "execute_result"
    }
   ],
   "source": [
    "from langchain.chat_models import ChatOpenAI\n",
    "from dotenv import load_dotenv\n",
    "\n",
    "load_dotenv()"
   ]
  },
  {
   "cell_type": "code",
   "execution_count": 13,
   "metadata": {},
   "outputs": [
    {
     "data": {
      "text/plain": [
       "\"Hello! As an AI, I don't have emotions, but I'm here to help you. How can I assist you today?\""
      ]
     },
     "execution_count": 13,
     "metadata": {},
     "output_type": "execute_result"
    }
   ],
   "source": [
    "chat_model = ChatOpenAI(model = \"gpt-3.5-turbo\", temperature=1.1, max_tokens=200, request_timeout=10)\n",
    "\n",
    "chat_model.predict(\"Hi, how are you today?\")"
   ]
  },
  {
   "cell_type": "markdown",
   "metadata": {},
   "source": [
    "## Downsample ESNLI"
   ]
  },
  {
   "cell_type": "code",
   "execution_count": 1,
   "metadata": {},
   "outputs": [
    {
     "name": "stderr",
     "output_type": "stream",
     "text": [
      "c:\\Projects\\master-thesis\\ZeroShot-step-by-step-distillation\\.venv\\lib\\site-packages\\tqdm\\auto.py:21: TqdmWarning: IProgress not found. Please update jupyter and ipywidgets. See https://ipywidgets.readthedocs.io/en/stable/user_install.html\n",
      "  from .autonotebook import tqdm as notebook_tqdm\n"
     ]
    }
   ],
   "source": [
    "import importlib\n",
    "dsbs_du = importlib.import_module(\"distilling-step-by-step.data_utils\")"
   ]
  },
  {
   "cell_type": "code",
   "execution_count": 2,
   "metadata": {},
   "outputs": [],
   "source": [
    "dataloader = dsbs_du.ESNLIDatasetLoader(subset=\"small\")\n",
    "datasets = dataloader.load_from_json()"
   ]
  },
  {
   "cell_type": "code",
   "execution_count": 3,
   "metadata": {},
   "outputs": [],
   "source": [
    "datasets[\"train\"] = datasets[\"train\"].train_test_split(test_size=0.6909)[\"train\"]"
   ]
  },
  {
   "cell_type": "code",
   "execution_count": 4,
   "metadata": {},
   "outputs": [],
   "source": [
    "datasets[\"test\"] = datasets[\"test\"].train_test_split(test_size=0.8982)[\"train\"]"
   ]
  },
  {
   "cell_type": "code",
   "execution_count": 5,
   "metadata": {},
   "outputs": [],
   "source": [
    "datasets[\"valid\"] = datasets[\"valid\"].train_test_split(test_size=0.89839)[\"train\"]"
   ]
  },
  {
   "cell_type": "code",
   "execution_count": 9,
   "metadata": {},
   "outputs": [],
   "source": [
    "import json\n",
    "to_write = \"\"\n",
    "with open(f\"esnli_valid.json\", \"w\") as f:\n",
    "    for line in datasets[\"valid\"]:\n",
    "        json.dump(line, f)\n",
    "        f.write(\"\\n\")"
   ]
  },
  {
   "cell_type": "code",
   "execution_count": null,
   "metadata": {},
   "outputs": [],
   "source": [
    "with open(f\"{write_location}/{split}_CoT.json\", \"w\") as f:\n",
    "    for line in to_write:\n",
    "        json.dump(line, f)\n",
    "        f.write(\"\\n\")"
   ]
  }
 ],
 "metadata": {
  "kernelspec": {
   "display_name": ".venv",
   "language": "python",
   "name": "python3"
  },
  "language_info": {
   "codemirror_mode": {
    "name": "ipython",
    "version": 3
   },
   "file_extension": ".py",
   "mimetype": "text/x-python",
   "name": "python",
   "nbconvert_exporter": "python",
   "pygments_lexer": "ipython3",
   "version": "3.8.10"
  },
  "orig_nbformat": 4
 },
 "nbformat": 4,
 "nbformat_minor": 2
}
