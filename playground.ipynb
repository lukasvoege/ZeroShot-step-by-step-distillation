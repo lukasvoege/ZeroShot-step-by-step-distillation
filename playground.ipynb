{
 "cells": [
  {
   "cell_type": "code",
   "execution_count": 2,
   "metadata": {},
   "outputs": [
    {
     "name": "stderr",
     "output_type": "stream",
     "text": [
      "c:\\Projects\\master-thesis\\ZeroShot-step-by-step-distillation\\.venv\\lib\\site-packages\\tqdm\\auto.py:21: TqdmWarning: IProgress not found. Please update jupyter and ipywidgets. See https://ipywidgets.readthedocs.io/en/stable/user_install.html\n",
      "  from .autonotebook import tqdm as notebook_tqdm\n"
     ]
    }
   ],
   "source": [
    "from teacher_query_tools import ANLITeacherQuerier, CQATeacherQuerier, ESNLITeacherQuerier, SVAMPTeacherQuerier"
   ]
  },
  {
   "cell_type": "code",
   "execution_count": 3,
   "metadata": {},
   "outputs": [
    {
     "name": "stderr",
     "output_type": "stream",
     "text": [
      "Downloading data files: 100%|██████████| 3/3 [00:00<?, ?it/s]\n",
      "Extracting data files: 100%|██████████| 3/3 [00:00<00:00, 141.83it/s]\n",
      "Generating train split: 16946 examples [00:00, 546600.70 examples/s]\n",
      "Generating test split: 1000 examples [00:00, 90913.71 examples/s]\n",
      "Generating valid split: 1000 examples [00:00, 99662.68 examples/s]\n",
      "Map: 100%|██████████| 16946/16946 [00:01<00:00, 16215.93 examples/s]\n",
      "Map: 100%|██████████| 1000/1000 [00:00<00:00, 15617.23 examples/s]\n",
      "Map: 100%|██████████| 1000/1000 [00:00<00:00, 15865.16 examples/s]\n"
     ]
    }
   ],
   "source": [
    "anliTQ = ANLITeacherQuerier()"
   ]
  },
  {
   "cell_type": "code",
   "execution_count": 4,
   "metadata": {},
   "outputs": [
    {
     "name": "stdout",
     "output_type": "stream",
     "text": [
      "\n",
      "The Parma trolleybus system (Italian: \"Rete filoviaria di Parma\" ) forms part of the public transport network of the city and \"comune\" of Parma, in the region of Emilia-Romagna, northern Italy. In operation since 1953, the system presently comprises four urban routes. Based on that information, is the claim: The trolleybus system has over 2 urban routes true, false, or inconclusive? Answer without an explanation.\n",
      "RESPONSE:\n",
      "False\n"
     ]
    }
   ],
   "source": [
    "anliTQ._query(split=\"train\", idx=0, prompt_template_id=3)"
   ]
  }
 ],
 "metadata": {
  "kernelspec": {
   "display_name": ".venv",
   "language": "python",
   "name": "python3"
  },
  "language_info": {
   "codemirror_mode": {
    "name": "ipython",
    "version": 3
   },
   "file_extension": ".py",
   "mimetype": "text/x-python",
   "name": "python",
   "nbconvert_exporter": "python",
   "pygments_lexer": "ipython3",
   "version": "3.8.10"
  },
  "orig_nbformat": 4
 },
 "nbformat": 4,
 "nbformat_minor": 2
}
