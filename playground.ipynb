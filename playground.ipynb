{
 "cells": [
  {
   "cell_type": "code",
   "execution_count": 1,
   "metadata": {},
   "outputs": [
    {
     "name": "stderr",
     "output_type": "stream",
     "text": [
      "c:\\Projects\\MasterThesis\\ZeroShot-step-by-step-distillation\\.venv\\lib\\site-packages\\tqdm\\auto.py:21: TqdmWarning: IProgress not found. Please update jupyter and ipywidgets. See https://ipywidgets.readthedocs.io/en/stable/user_install.html\n",
      "  from .autonotebook import tqdm as notebook_tqdm\n"
     ]
    }
   ],
   "source": [
    "from src.teacher_query_tools import ANLITeacherQuerier, CQATeacherQuerier, ESNLITeacherQuerier, SVAMPTeacherQuerier"
   ]
  },
  {
   "cell_type": "markdown",
   "metadata": {},
   "source": [
    "## Teacher Querier"
   ]
  },
  {
   "cell_type": "code",
   "execution_count": 2,
   "metadata": {},
   "outputs": [],
   "source": [
    "anliTQ = ANLITeacherQuerier()"
   ]
  },
  {
   "cell_type": "code",
   "execution_count": 3,
   "metadata": {},
   "outputs": [
    {
     "name": "stdout",
     "output_type": "stream",
     "text": [
      "\n",
      "Premise: The Parma trolleybus system (Italian: \"Rete filoviaria di Parma\" ) forms part of the public transport network of the city and \"comune\" of Parma, in the region of Emilia-Romagna, northern Italy. In operation since 1953, the system presently comprises four urban routes.\\nClaim: The trolleybus system has over 2 urban routes\\n\\nWhy is the hypothesis \"entailment\" towards the premise? Answer in a single sentence starting with: \"The hypothesis is \"entailment\" towards the premise, because...\"\n",
      "RESPONSE:\n",
      "The hypothesis is \"entailment\" towards the premise, because it directly supports and confirms the information provided in the premise that the Parma trolleybus system presently comprises four urban routes.\n"
     ]
    }
   ],
   "source": [
    "anliTQ._query(split=\"train\", idx=0, prompt_template_id=179, dont_save=True)"
   ]
  },
  {
   "cell_type": "code",
   "execution_count": 3,
   "metadata": {},
   "outputs": [
    {
     "name": "stdout",
     "output_type": "stream",
     "text": [
      "QUERYING EXAMPLE 10/10 (9)...\n",
      "Batch Query completed! (Skipped 0 queries as they were already queried and stored.)\n",
      "Total Prompt Tokens: 1438\n",
      "Total Completion Tokens: 390\n",
      "Total Costs: $0.002937\n"
     ]
    },
    {
     "data": {
      "text/plain": [
       "(1438, 390, 0.002937)"
      ]
     },
     "execution_count": 3,
     "metadata": {},
     "output_type": "execute_result"
    }
   ],
   "source": [
    "anliTQ._batch_query(split=\"train\", idxs=list(range(10)), prompt_template_id=179, force_query=False)"
   ]
  },
  {
   "cell_type": "code",
   "execution_count": 7,
   "metadata": {},
   "outputs": [],
   "source": [
    "svampTQ = SVAMPTeacherQuerier()"
   ]
  },
  {
   "cell_type": "code",
   "execution_count": 8,
   "metadata": {},
   "outputs": [
    {
     "name": "stdout",
     "output_type": "stream",
     "text": [
      "Batch Query completed! (Skipped 30 queries as they were already queried and stored.)\n",
      "Total Prompt Tokens: 566\n",
      "Total Completion Tokens: 635\n",
      "Total Costs: $0.002119\n"
     ]
    }
   ],
   "source": [
    "svampTQ._batch_query(split=\"train\", idxs=list(range(41)), prompt_template_id=1, force_query=False)"
   ]
  },
  {
   "cell_type": "code",
   "execution_count": 24,
   "metadata": {},
   "outputs": [],
   "source": [
    "esnli = ESNLITeacherQuerier()"
   ]
  },
  {
   "cell_type": "code",
   "execution_count": 26,
   "metadata": {},
   "outputs": [
    {
     "name": "stdout",
     "output_type": "stream",
     "text": [
      "Batch Query completed! (Skipped 2 queries as they were already queried and stored.)\n",
      "Total Prompt Tokens: 0\n",
      "Total Completion Tokens: 0\n",
      "Total Costs: $0\n"
     ]
    }
   ],
   "source": [
    "esnli._batch_query(split=\"train\", idxs=[0, 34191], prompt_template_id=1, force_query=False, dont_save=True)"
   ]
  },
  {
   "cell_type": "code",
   "execution_count": 11,
   "metadata": {},
   "outputs": [],
   "source": [
    "cqaTQ = CQATeacherQuerier()"
   ]
  },
  {
   "cell_type": "code",
   "execution_count": 12,
   "metadata": {},
   "outputs": [
    {
     "name": "stdout",
     "output_type": "stream",
     "text": [
      "Batch Query completed! (Skipped 3 queries as they were already queried and stored.)\n",
      "Total Prompt Tokens: 148\n",
      "Total Completion Tokens: 58\n",
      "Total Costs: $0.000338\n"
     ]
    }
   ],
   "source": [
    "cqaTQ._batch_query(split=\"train\", idxs=[0, 1, 2, 100, 200], prompt_template_id=2, force_query=False)"
   ]
  },
  {
   "cell_type": "markdown",
   "metadata": {},
   "source": [
    "## Parser"
   ]
  },
  {
   "cell_type": "code",
   "execution_count": 1,
   "metadata": {},
   "outputs": [],
   "source": [
    "from src.teacher_response_parser import SVAMPTeacherResponseParser, ESNLITeacherResponseParser, CQATeacherResponseParser, ANLITeacherResponseParser\n",
    "import re"
   ]
  },
  {
   "cell_type": "code",
   "execution_count": 2,
   "metadata": {},
   "outputs": [],
   "source": [
    "parser = ANLITeacherResponseParser()"
   ]
  },
  {
   "cell_type": "code",
   "execution_count": 22,
   "metadata": {},
   "outputs": [
    {
     "data": {
      "text/plain": [
       "('lol',\n",
       " 'fire because coal is commonly used as a fuel source to ignite and sustain fires.')"
      ]
     },
     "execution_count": 22,
     "metadata": {},
     "output_type": "execute_result"
    }
   ],
   "source": [
    "pattern = re.compile(\"(balls|a\\)|b\\)|c\\)|d\\)|e\\)|1\\)|2\\)|3\\)|4\\)|5\\)|1\\.|2\\.|3\\.|4\\.|5\\.).?(.*)\", re.IGNORECASE|re.DOTALL)\n",
    "parser.parse_response(\"The correct answer is a) fire because coal is commonly used as a fuel source to ignite and sustain fires.\", pattern=pattern, prompt_values={\"choice_a\": \"lol\"})"
   ]
  },
  {
   "cell_type": "code",
   "execution_count": 60,
   "metadata": {},
   "outputs": [],
   "source": [
    "pattern = re.compile(\"(.+\\\\b)(\\d+)\")\n",
    "match = pattern.search(\"In each row, there are 30 crayons, so in 7 rows there are 7 * 30 <<7*30=210>>210 crayons. Answer: \\\\boxed{210}.\")"
   ]
  },
  {
   "cell_type": "code",
   "execution_count": 3,
   "metadata": {},
   "outputs": [
    {
     "data": {
      "text/plain": [
       "{5333: ('contradiction', None),\n",
       " 8443: ('contradiction', None),\n",
       " 16741: ('contradiction', None),\n",
       " 735: ('contradiction', None),\n",
       " 7559: ('entailment', None),\n",
       " 16652: ('neutral', None),\n",
       " 13064: ('neutral', None),\n",
       " 11538: ('entailment', None),\n",
       " 13776: ('entailment', None),\n",
       " 2325: ('entailment', None),\n",
       " 8253: ('contradiction', None),\n",
       " 10684: ('entailment', None),\n",
       " 16845: ('contradiction', None),\n",
       " 9044: ('neutral', None),\n",
       " 8094: ('entailment', None),\n",
       " 6442: ('neutral', None),\n",
       " 9004: ('neutral', None),\n",
       " 3429: ('neutral',\n",
       "  \"The information provided does not give any indication of Alexander Shaun Cullen's personal feelings or enjoyment of being a politician.\"),\n",
       " 6333: ('contradiction', None),\n",
       " 12998: ('neutral',\n",
       "  'The given information does not provide enough detail to determine whether Maharishi Peace Palace is specifically designed as a worshipping house.'),\n",
       " 3589: ('entailment', None),\n",
       " 1210: ('contradiction', None),\n",
       " 16922: ('neutral',\n",
       "  \"The information provided does not give any indication of FenceSitter Films' stance on gay marriage.\"),\n",
       " 6422: ('entailment', None),\n",
       " 2021: ('neutral', None),\n",
       " 14365: ('neutral', None),\n",
       " 7695: ('entailment', None),\n",
       " 3703: ('neutral', None),\n",
       " 14783: ('entailment', None),\n",
       " 10591: ('contradiction', None),\n",
       " 16430: ('contradiction', None),\n",
       " 11505: ('neutral',\n",
       "  'While William Gurstelle is a columnist and contributing editor at \"Popular Science\" magazine, it cannot be determined whether he is known for his contributions to the magazine by all scientists.'),\n",
       " 10362: ('entailment', None),\n",
       " 6844: ('entailment', None),\n",
       " 16644: ('contradiction', None),\n",
       " 1493: ('contradiction', None),\n",
       " 123: ('entailment', None),\n",
       " 11055: ('entailment', None),\n",
       " 5834: ('contradiction', None),\n",
       " 15287: ('entailment', None),\n",
       " 12745: ('neutral',\n",
       "  'The provided information does not provide any details or evidence about the popularity of the Aurora Sub railway line.'),\n",
       " 4074: ('entailment', None),\n",
       " 3599: ('entailment', None),\n",
       " 2099: ('entailment', None),\n",
       " 7026: ('contradiction', None),\n",
       " 3617: ('entailment', None),\n",
       " 322: ('contradiction', None),\n",
       " 12654: ('entailment', None),\n",
       " 4417: ('entailment', None),\n",
       " 7048: ('entailment', None)}"
      ]
     },
     "execution_count": 3,
     "metadata": {},
     "output_type": "execute_result"
    }
   ],
   "source": [
    "parser.parse_response_batch(split=\"train\", prompt_template_id=78, verbose= True)"
   ]
  },
  {
   "cell_type": "code",
   "execution_count": 61,
   "metadata": {},
   "outputs": [
    {
     "data": {
      "text/plain": [
       "('In each row, there are 30 crayons, so in 7 rows there are 7 * 30 <<7*30=210>>210 crayons. Answer: \\\\boxed{',\n",
       " '210')"
      ]
     },
     "execution_count": 61,
     "metadata": {},
     "output_type": "execute_result"
    }
   ],
   "source": [
    "match.groups()"
   ]
  },
  {
   "cell_type": "code",
   "execution_count": 6,
   "metadata": {},
   "outputs": [
    {
     "data": {
      "text/plain": [
       "{0: ('42', None),\n",
       " 1: ('210', None),\n",
       " 2: ('34', 'Julia played with a total of'),\n",
       " 3: ('6', None),\n",
       " 4: ('7', None),\n",
       " 5: ('1088', 'The mailman should give a total of'),\n",
       " 6: ('0.5', 'Each person ate 0.5 crackers and'),\n",
       " 7: ('280', None),\n",
       " 8: ('5', None),\n",
       " 9: ('13', None),\n",
       " 10: ('12', None),\n",
       " 11: ('150', None),\n",
       " 12: ('60', None),\n",
       " 13: ('69', None),\n",
       " 14: ('9', None),\n",
       " 15: ('204', 'The farmer picked a total of'),\n",
       " 16: ('180', 'The machine made a total of'),\n",
       " 17: ('18', None),\n",
       " 18: ('18', 'The number of birds sitting on the fence is'),\n",
       " 19: ('8', None),\n",
       " 20: ('2', None),\n",
       " 21: ('60', 'The depth of the water was'),\n",
       " 22: ('66', 'The grasshopper and the frog jumped a total of'),\n",
       " 23: ('89', None),\n",
       " 24: ('130', None),\n",
       " 25: ('2', None),\n",
       " 26: ('32', None),\n",
       " 27: ('154', None),\n",
       " 28: ('345', None),\n",
       " 29: ('1', None),\n",
       " 696: ('2', None),\n",
       " 667: ('4', None),\n",
       " 63: ('12', None),\n",
       " 533: ('26', None),\n",
       " 66: ('3', None),\n",
       " 621: ('51', None),\n",
       " 346: ('7', None),\n",
       " 490: ('238', None),\n",
       " 760: ('4', None),\n",
       " 456: ('1', None)}"
      ]
     },
     "execution_count": 6,
     "metadata": {},
     "output_type": "execute_result"
    }
   ],
   "source": [
    "parser.parse_response_batch(split=\"train\", prompt_template_id=3)"
   ]
  },
  {
   "cell_type": "code",
   "execution_count": 10,
   "metadata": {},
   "outputs": [
    {
     "data": {
      "text/plain": [
       "'Tell me a funny joke about chickens.'"
      ]
     },
     "execution_count": 10,
     "metadata": {},
     "output_type": "execute_result"
    }
   ],
   "source": [
    "\n",
    "s = \"Tell me a {adjective} joke about {content}.\"\n",
    "\n",
    "s.format(**{\"adjective\": \"funny\", \"content\": \"chickens\", \"mashall\": \"mashall\"})\n",
    "#(**{\"adjective\": \"funny\", \"content\": \"chickens\", \"mashall\": \"mashall\"})"
   ]
  },
  {
   "cell_type": "markdown",
   "metadata": {},
   "source": [
    "## Utils"
   ]
  },
  {
   "cell_type": "code",
   "execution_count": 1,
   "metadata": {},
   "outputs": [],
   "source": [
    "import utils"
   ]
  },
  {
   "cell_type": "code",
   "execution_count": 2,
   "metadata": {},
   "outputs": [],
   "source": [
    "c1 = utils.Metadata()\n",
    "c2 = utils.OtherMeta()"
   ]
  },
  {
   "cell_type": "code",
   "execution_count": 3,
   "metadata": {},
   "outputs": [
    {
     "data": {
      "text/plain": [
       "'another static'"
      ]
     },
     "execution_count": 3,
     "metadata": {},
     "output_type": "execute_result"
    }
   ],
   "source": [
    "c2.static_thing"
   ]
  },
  {
   "cell_type": "markdown",
   "metadata": {},
   "source": [
    "## Evaluator"
   ]
  },
  {
   "cell_type": "code",
   "execution_count": 1,
   "metadata": {},
   "outputs": [
    {
     "name": "stderr",
     "output_type": "stream",
     "text": [
      "c:\\Projects\\master-thesis\\ZeroShot-step-by-step-distillation\\.venv\\lib\\site-packages\\tqdm\\auto.py:21: TqdmWarning: IProgress not found. Please update jupyter and ipywidgets. See https://ipywidgets.readthedocs.io/en/stable/user_install.html\n",
      "  from .autonotebook import tqdm as notebook_tqdm\n"
     ]
    }
   ],
   "source": [
    "from src.teacher_response_evaluator import TeacherResponseEvaluator"
   ]
  },
  {
   "cell_type": "code",
   "execution_count": 2,
   "metadata": {},
   "outputs": [],
   "source": [
    "evaluator = TeacherResponseEvaluator(\"anli1\")"
   ]
  },
  {
   "cell_type": "code",
   "execution_count": 7,
   "metadata": {},
   "outputs": [
    {
     "data": {
      "text/plain": [
       "{'accuracy': 0.599,\n",
       " 'n_correct': 599,\n",
       " 'n_wrong': 401,\n",
       " 'n_parse_errors': 2,\n",
       " 'n_none_responses': 116,\n",
       " 'total_responses': 884,\n",
       " 'total_length_of_explanations': 175302,\n",
       " 'total_number_of_sentences': 1459,\n",
       " 'total_number_of_words': 29080,\n",
       " 'flesch_reading_ease': 48.10235772496259,\n",
       " 'variance_length_of_explanations': 11931.64426915911}"
      ]
     },
     "execution_count": 7,
     "metadata": {},
     "output_type": "execute_result"
    }
   ],
   "source": [
    "evaluator.evaluate_responses_split(split = \"valid\", prompt_template_id = 100)"
   ]
  },
  {
   "cell_type": "code",
   "execution_count": 4,
   "metadata": {},
   "outputs": [
    {
     "name": "stdout",
     "output_type": "stream",
     "text": [
      "Could not parse '8 customers left than those that stayed behind.' with pattern 're.compile('(.+[\\\\s{\\\\$â‚¬])(\\\\d*\\\\.?\\\\d+)', re.IGNORECASE|re.DOTALL)'\n",
      "Could not parse '137 more students suggested mashed potatoes than those that suggested bacon.' with pattern 're.compile('(.+[\\\\s\\\\{\\\\$â‚¬])(\\\\d*\\\\.?\\\\d+)', re.IGNORECASE|re.DOTALL)'\n",
      "Could not parse '34 bird families were living near the mountain at the start.' with pattern 're.compile('(.+[\\\\s\\\\{\\\\$â‚¬])(\\\\d*\\\\.?\\\\d+)', re.IGNORECASE|re.DOTALL)'\n",
      "Could not parse '65 more students suggested mashed potatoes than those that suggested tomatoes.' with pattern 're.compile('(.+[\\\\s\\\\{\\\\$â‚¬])(\\\\d*\\\\.?\\\\d+)', re.IGNORECASE|re.DOTALL)'\n",
      "Could not parse '30 campers went rowing and hiking in all.' with pattern 're.compile('(.+[\\\\s\\\\{\\\\$â‚¬])(\\\\d*\\\\.?\\\\d+)', re.IGNORECASE|re.DOTALL)'\n",
      "Best prompt template for svamp is 2, with accuracy: 0.7936507936507936\n"
     ]
    },
    {
     "data": {
      "text/plain": [
       "'2'"
      ]
     },
     "execution_count": 4,
     "metadata": {},
     "output_type": "execute_result"
    }
   ],
   "source": [
    "evaluator.evaluate_train()"
   ]
  },
  {
   "cell_type": "markdown",
   "metadata": {},
   "source": [
    "## Dataset Writer"
   ]
  },
  {
   "cell_type": "code",
   "execution_count": 1,
   "metadata": {},
   "outputs": [],
   "source": [
    "from teacher_writer import TeacherWriter\n",
    "tw = TeacherWriter(\"svamp\")"
   ]
  },
  {
   "cell_type": "code",
   "execution_count": 19,
   "metadata": {},
   "outputs": [],
   "source": [
    "mix = {\"label\": {1: range(10)}, \"explanation\": {2: range(10)}}"
   ]
  },
  {
   "cell_type": "code",
   "execution_count": 20,
   "metadata": {},
   "outputs": [],
   "source": [
    "tw.write_teacher_responses(split=\"train\", prompt_template_id_mix=mix)"
   ]
  },
  {
   "cell_type": "markdown",
   "metadata": {},
   "source": [
    "# Plain Langchain"
   ]
  },
  {
   "cell_type": "code",
   "execution_count": 3,
   "metadata": {},
   "outputs": [
    {
     "data": {
      "text/plain": [
       "True"
      ]
     },
     "execution_count": 3,
     "metadata": {},
     "output_type": "execute_result"
    }
   ],
   "source": [
    "from langchain.chat_models import ChatOpenAI\n",
    "from dotenv import load_dotenv\n",
    "\n",
    "load_dotenv()"
   ]
  },
  {
   "cell_type": "code",
   "execution_count": 13,
   "metadata": {},
   "outputs": [
    {
     "data": {
      "text/plain": [
       "\"Hello! As an AI, I don't have emotions, but I'm here to help you. How can I assist you today?\""
      ]
     },
     "execution_count": 13,
     "metadata": {},
     "output_type": "execute_result"
    }
   ],
   "source": [
    "chat_model = ChatOpenAI(model = \"gpt-3.5-turbo\", temperature=1.1, max_tokens=200, request_timeout=10)\n",
    "\n",
    "chat_model.predict(\"Hi, how are you today?\")"
   ]
  },
  {
   "cell_type": "markdown",
   "metadata": {},
   "source": [
    "## Downsample ESNLI"
   ]
  },
  {
   "cell_type": "code",
   "execution_count": 1,
   "metadata": {},
   "outputs": [
    {
     "name": "stderr",
     "output_type": "stream",
     "text": [
      "c:\\Projects\\master-thesis\\ZeroShot-step-by-step-distillation\\.venv\\lib\\site-packages\\tqdm\\auto.py:21: TqdmWarning: IProgress not found. Please update jupyter and ipywidgets. See https://ipywidgets.readthedocs.io/en/stable/user_install.html\n",
      "  from .autonotebook import tqdm as notebook_tqdm\n"
     ]
    }
   ],
   "source": [
    "import importlib\n",
    "dsbs_du = importlib.import_module(\"distilling-step-by-step.data_utils\")"
   ]
  },
  {
   "cell_type": "code",
   "execution_count": 2,
   "metadata": {},
   "outputs": [],
   "source": [
    "dataloader = dsbs_du.ESNLIDatasetLoader(subset=\"small\")\n",
    "datasets = dataloader.load_from_json()"
   ]
  },
  {
   "cell_type": "code",
   "execution_count": 3,
   "metadata": {},
   "outputs": [],
   "source": [
    "datasets[\"train\"] = datasets[\"train\"].train_test_split(test_size=0.6909)[\"train\"]"
   ]
  },
  {
   "cell_type": "code",
   "execution_count": 4,
   "metadata": {},
   "outputs": [],
   "source": [
    "datasets[\"test\"] = datasets[\"test\"].train_test_split(test_size=0.8982)[\"train\"]"
   ]
  },
  {
   "cell_type": "code",
   "execution_count": 5,
   "metadata": {},
   "outputs": [],
   "source": [
    "datasets[\"valid\"] = datasets[\"valid\"].train_test_split(test_size=0.89839)[\"train\"]"
   ]
  },
  {
   "cell_type": "code",
   "execution_count": 9,
   "metadata": {},
   "outputs": [],
   "source": [
    "import json\n",
    "to_write = \"\"\n",
    "with open(f\"esnli_valid.json\", \"w\") as f:\n",
    "    for line in datasets[\"valid\"]:\n",
    "        json.dump(line, f)\n",
    "        f.write(\"\\n\")"
   ]
  },
  {
   "cell_type": "code",
   "execution_count": null,
   "metadata": {},
   "outputs": [],
   "source": [
    "with open(f\"{write_location}/{split}_CoT.json\", \"w\") as f:\n",
    "    for line in to_write:\n",
    "        json.dump(line, f)\n",
    "        f.write(\"\\n\")"
   ]
  }
 ],
 "metadata": {
  "kernelspec": {
   "display_name": ".venv",
   "language": "python",
   "name": "python3"
  },
  "language_info": {
   "codemirror_mode": {
    "name": "ipython",
    "version": 3
   },
   "file_extension": ".py",
   "mimetype": "text/x-python",
   "name": "python",
   "nbconvert_exporter": "python",
   "pygments_lexer": "ipython3",
   "version": "3.8.10"
  },
  "orig_nbformat": 4
 },
 "nbformat": 4,
 "nbformat_minor": 2
}
