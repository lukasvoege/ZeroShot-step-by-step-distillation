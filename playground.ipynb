{
 "cells": [
  {
   "cell_type": "code",
   "execution_count": 1,
   "metadata": {},
   "outputs": [
    {
     "name": "stderr",
     "output_type": "stream",
     "text": [
      "c:\\Projects\\MasterThesis\\.venv\\lib\\site-packages\\tqdm\\auto.py:21: TqdmWarning: IProgress not found. Please update jupyter and ipywidgets. See https://ipywidgets.readthedocs.io/en/stable/user_install.html\n",
      "  from .autonotebook import tqdm as notebook_tqdm\n"
     ]
    }
   ],
   "source": [
    "from teacher_query_tools import ANLITeacherQuerier, CQATeacherQuerier, ESNLITeacherQuerier, SVAMPTeacherQuerier"
   ]
  },
  {
   "cell_type": "markdown",
   "metadata": {},
   "source": [
    "## Teacher Querier"
   ]
  },
  {
   "cell_type": "code",
   "execution_count": 2,
   "metadata": {},
   "outputs": [],
   "source": [
    "anliTQ = ANLITeacherQuerier()"
   ]
  },
  {
   "cell_type": "code",
   "execution_count": 3,
   "metadata": {},
   "outputs": [
    {
     "name": "stdout",
     "output_type": "stream",
     "text": [
      "\n",
      "Alexandra Lendon Bastedo (9 March 1946 – 12 January 2014) was a British actress, best known for her role as secret agent Sharron Macready in the 1968 British espionage/science fiction adventure series \"The Champions\". She has been cited as a sex symbol of the 1960s and 1970s. Bastedo was a vegetarian and animal welfare advocate. Based on that information, is the claim: Bastedo didn't keep any pets because of her views on animal rights. true, false, or inconclusive? Answer with a one sentence explanation.\n",
      "RESPONSE:\n",
      "Inconclusive, as there is no information provided to directly support or refute the claim that Bastedo didn't keep any pets due to her views on animal rights.\n"
     ]
    }
   ],
   "source": [
    "anliTQ._query(split=\"train\", idx=2, prompt_template_id=1, dont_save=True)"
   ]
  },
  {
   "cell_type": "code",
   "execution_count": 4,
   "metadata": {},
   "outputs": [
    {
     "name": "stdout",
     "output_type": "stream",
     "text": [
      "Batch Query completed! (Skipped 41 queries as they were already queried and stored.)\n",
      "Total Prompt Tokens: 711\n",
      "Total Completion Tokens: 8\n",
      "Total Costs: $0.0010825000000000001\n"
     ]
    }
   ],
   "source": [
    "anliTQ._batch_query(split=\"train\", idxs=list(range(47)), prompt_template_id=3, force_query=False)"
   ]
  },
  {
   "cell_type": "code",
   "execution_count": 7,
   "metadata": {},
   "outputs": [],
   "source": [
    "svampTQ = SVAMPTeacherQuerier()"
   ]
  },
  {
   "cell_type": "code",
   "execution_count": 8,
   "metadata": {},
   "outputs": [
    {
     "name": "stdout",
     "output_type": "stream",
     "text": [
      "Batch Query completed! (Skipped 30 queries as they were already queried and stored.)\n",
      "Total Prompt Tokens: 566\n",
      "Total Completion Tokens: 635\n",
      "Total Costs: $0.002119\n"
     ]
    }
   ],
   "source": [
    "svampTQ._batch_query(split=\"train\", idxs=list(range(41)), prompt_template_id=1, force_query=False)"
   ]
  },
  {
   "cell_type": "code",
   "execution_count": 9,
   "metadata": {},
   "outputs": [],
   "source": [
    "esnli = ESNLITeacherQuerier()"
   ]
  },
  {
   "cell_type": "code",
   "execution_count": 17,
   "metadata": {},
   "outputs": [
    {
     "name": "stdout",
     "output_type": "stream",
     "text": [
      "Batch Query completed! (Skipped 3 queries as they were already queried and stored.)\n",
      "Total Prompt Tokens: 296\n",
      "Total Completion Tokens: 74\n",
      "Total Costs: $0.000592\n"
     ]
    }
   ],
   "source": [
    "esnli._batch_query(split=\"train\", idxs=[0, 1, 2, 100, 200], prompt_template_id=2, force_query=False)"
   ]
  },
  {
   "cell_type": "code",
   "execution_count": 11,
   "metadata": {},
   "outputs": [],
   "source": [
    "cqaTQ = CQATeacherQuerier()"
   ]
  },
  {
   "cell_type": "code",
   "execution_count": 12,
   "metadata": {},
   "outputs": [
    {
     "name": "stdout",
     "output_type": "stream",
     "text": [
      "Batch Query completed! (Skipped 3 queries as they were already queried and stored.)\n",
      "Total Prompt Tokens: 148\n",
      "Total Completion Tokens: 58\n",
      "Total Costs: $0.000338\n"
     ]
    }
   ],
   "source": [
    "cqaTQ._batch_query(split=\"train\", idxs=[0, 1, 2, 100, 200], prompt_template_id=2, force_query=False)"
   ]
  },
  {
   "cell_type": "markdown",
   "metadata": {},
   "source": [
    "## Parser"
   ]
  },
  {
   "cell_type": "code",
   "execution_count": 28,
   "metadata": {},
   "outputs": [],
   "source": [
    "from teacher_response_parser import SVAMPTeacherResponseParser, ESNLITeacherResponseParser, CQATeacherResponseParser, ANLITeacherResponseParser\n",
    "import re"
   ]
  },
  {
   "cell_type": "code",
   "execution_count": 29,
   "metadata": {},
   "outputs": [],
   "source": [
    "parser = ANLITeacherResponseParser()"
   ]
  },
  {
   "cell_type": "code",
   "execution_count": 3,
   "metadata": {},
   "outputs": [
    {
     "data": {
      "text/plain": [
       "('neutral', None)"
      ]
     },
     "execution_count": 3,
     "metadata": {},
     "output_type": "execute_result"
    }
   ],
   "source": [
    "pattern = re.compile(\"(\\d+)\", re.IGNORECASE|re.DOTALL)\n",
    "parser.parse_response(\"In each row, there are 30 crayons, so in 7 rows there are 7 * 30 = <<7*30=210>>210 crayons. Answer: \\\\boxed{210}.\", pattern=pattern)"
   ]
  },
  {
   "cell_type": "code",
   "execution_count": 60,
   "metadata": {},
   "outputs": [],
   "source": [
    "pattern = re.compile(\"(.+\\\\b)(\\d+)\")\n",
    "match = pattern.search(\"In each row, there are 30 crayons, so in 7 rows there are 7 * 30 <<7*30=210>>210 crayons. Answer: \\\\boxed{210}.\")"
   ]
  },
  {
   "cell_type": "code",
   "execution_count": 61,
   "metadata": {},
   "outputs": [
    {
     "data": {
      "text/plain": [
       "('In each row, there are 30 crayons, so in 7 rows there are 7 * 30 <<7*30=210>>210 crayons. Answer: \\\\boxed{',\n",
       " '210')"
      ]
     },
     "execution_count": 61,
     "metadata": {},
     "output_type": "execute_result"
    }
   ],
   "source": [
    "match.groups()"
   ]
  },
  {
   "cell_type": "code",
   "execution_count": 32,
   "metadata": {},
   "outputs": [
    {
     "data": {
      "text/plain": [
       "{0: ('contradiction', None),\n",
       " 1: ('contradiction', None),\n",
       " 2: ('neutral', None),\n",
       " 3: ('neutral', None),\n",
       " 4: ('neutral', None),\n",
       " 5: ('entailment', None),\n",
       " 6: ('contradiction', None),\n",
       " 7: ('entailment', None),\n",
       " 8: ('entailment', None),\n",
       " 9: ('neutral', None),\n",
       " 10: ('neutral', None),\n",
       " 11: ('entailment', None),\n",
       " 12: ('neutral', None),\n",
       " 13: ('entailment', None),\n",
       " 14: ('entailment', None),\n",
       " 15: ('entailment', None),\n",
       " 16: ('neutral', None),\n",
       " 17: ('entailment', None),\n",
       " 18: ('neutral', None),\n",
       " 19: ('entailment', None),\n",
       " 20: ('neutral', None),\n",
       " 21: ('entailment', None),\n",
       " 22: ('neutral', None),\n",
       " 23: ('contradiction', None),\n",
       " 24: ('contradiction', None),\n",
       " 25: ('entailment', None),\n",
       " 26: ('contradiction', None),\n",
       " 27: ('neutral', None),\n",
       " 28: ('contradiction', None),\n",
       " 29: ('contradiction', None),\n",
       " 30: ('contradiction', None),\n",
       " 31: ('entailment', None),\n",
       " 32: ('contradiction', None),\n",
       " 33: ('neutral', None),\n",
       " 34: ('entailment', None),\n",
       " 35: ('entailment', None),\n",
       " 36: ('contradiction', None),\n",
       " 37: ('entailment', None),\n",
       " 38: ('entailment', None),\n",
       " 39: ('entailment', None)}"
      ]
     },
     "execution_count": 32,
     "metadata": {},
     "output_type": "execute_result"
    }
   ],
   "source": [
    "parser.parse_response_batch(split=\"train\", prompt_template_id=3)"
   ]
  },
  {
   "cell_type": "code",
   "execution_count": 10,
   "metadata": {},
   "outputs": [
    {
     "data": {
      "text/plain": [
       "'Tell me a funny joke about chickens.'"
      ]
     },
     "execution_count": 10,
     "metadata": {},
     "output_type": "execute_result"
    }
   ],
   "source": [
    "\n",
    "s = \"Tell me a {adjective} joke about {content}.\"\n",
    "\n",
    "s.format(**{\"adjective\": \"funny\", \"content\": \"chickens\", \"mashall\": \"mashall\"})\n",
    "#(**{\"adjective\": \"funny\", \"content\": \"chickens\", \"mashall\": \"mashall\"})"
   ]
  },
  {
   "cell_type": "markdown",
   "metadata": {},
   "source": [
    "## Utils"
   ]
  },
  {
   "cell_type": "code",
   "execution_count": 1,
   "metadata": {},
   "outputs": [],
   "source": [
    "import utils"
   ]
  },
  {
   "cell_type": "code",
   "execution_count": 2,
   "metadata": {},
   "outputs": [],
   "source": [
    "c1 = utils.Metadata()\n",
    "c2 = utils.OtherMeta()"
   ]
  },
  {
   "cell_type": "code",
   "execution_count": 3,
   "metadata": {},
   "outputs": [
    {
     "data": {
      "text/plain": [
       "'another static'"
      ]
     },
     "execution_count": 3,
     "metadata": {},
     "output_type": "execute_result"
    }
   ],
   "source": [
    "c2.static_thing"
   ]
  },
  {
   "cell_type": "markdown",
   "metadata": {},
   "source": [
    "## Evaluator"
   ]
  },
  {
   "cell_type": "code",
   "execution_count": 1,
   "metadata": {},
   "outputs": [
    {
     "name": "stderr",
     "output_type": "stream",
     "text": [
      "c:\\Projects\\MasterThesis\\.venv\\lib\\site-packages\\tqdm\\auto.py:21: TqdmWarning: IProgress not found. Please update jupyter and ipywidgets. See https://ipywidgets.readthedocs.io/en/stable/user_install.html\n",
      "  from .autonotebook import tqdm as notebook_tqdm\n"
     ]
    }
   ],
   "source": [
    "from teacher_response_evaluator import TeacherResponseEvaluator"
   ]
  },
  {
   "cell_type": "code",
   "execution_count": 9,
   "metadata": {},
   "outputs": [],
   "source": [
    "evaluator = TeacherResponseEvaluator(\"anli1\")"
   ]
  },
  {
   "cell_type": "code",
   "execution_count": 5,
   "metadata": {},
   "outputs": [
    {
     "name": "stdout",
     "output_type": "stream",
     "text": [
      "Could not parse 'Label: Neutraxdl\n",
      "\n",
      "Explanation: The hypothesis does not contradict or entail the premise, as it introduces a new aspect (conversation) that is not mentioned in the premise.' with pattern 're.compile('(entailment|contradiction|neutral).(.*)', re.IGNORECASE|re.DOTALL)'\n"
     ]
    },
    {
     "data": {
      "text/plain": [
       "{'accuracy': 0.6428571428571429,\n",
       " 'n_correct': 27,\n",
       " 'n_wrong': 15,\n",
       " 'n_parse_errors': 1,\n",
       " 'n_none_responses': 1,\n",
       " 'total_reponses': 41,\n",
       " 'total_length_of_explanations': 6346}"
      ]
     },
     "execution_count": 5,
     "metadata": {},
     "output_type": "execute_result"
    }
   ],
   "source": [
    "evaluator.evaluate_responses_split(split = \"train\", prompt_template_id = 2)"
   ]
  },
  {
   "cell_type": "code",
   "execution_count": 10,
   "metadata": {},
   "outputs": [
    {
     "name": "stdout",
     "output_type": "stream",
     "text": [
      "Could not parse 'The claim that the Cougars represented Washington State College is mixed, as the 1919 Washington State Cougars football team was the team that represented Washington State College during that season.' with pattern 're.compile('(True|False|Inconclusive).(.*)', re.IGNORECASE|re.DOTALL)'\n",
      "Best prompt template for anli1 is 3, with accuracy: 0.6585365853658537\n"
     ]
    },
    {
     "data": {
      "text/plain": [
       "'3'"
      ]
     },
     "execution_count": 10,
     "metadata": {},
     "output_type": "execute_result"
    }
   ],
   "source": [
    "evaluator.evaluate_train()"
   ]
  },
  {
   "cell_type": "markdown",
   "metadata": {},
   "source": [
    "## Dataset Writer"
   ]
  },
  {
   "cell_type": "code",
   "execution_count": 1,
   "metadata": {},
   "outputs": [],
   "source": [
    "from teacher_writer import TeacherWriter\n",
    "tw = TeacherWriter(\"anli1\")"
   ]
  },
  {
   "cell_type": "code",
   "execution_count": 2,
   "metadata": {},
   "outputs": [],
   "source": [
    "mix = {1: 0.5, 2: 0.5}"
   ]
  },
  {
   "cell_type": "code",
   "execution_count": 3,
   "metadata": {},
   "outputs": [
    {
     "data": {
      "text/plain": [
       "{1: {0: ('contradiction',\n",
       "   'The trolleybus system in Parma currently has four urban routes, not over two.'),\n",
       "  1: ('contradiction',\n",
       "   'The claim is false because \"The Champions,\" in which Sharron Macready appeared, aired only from 1968 to 1969.'),\n",
       "  2: ('neutral',\n",
       "   'The information provided does not give any indication of whether Bastedo kept pets or not, despite her views on animal rights.'),\n",
       "  3: ('neutral',\n",
       "   'The information provided does not indicate whether Alexandra Bastedo was named by her mother or not.'),\n",
       "  4: ('contradiction',\n",
       "   'While Bastedo was an animal welfare advocate, it does not necessarily mean she cared for all animals that inhabit the earth as the claim suggests.'),\n",
       "  5: ('entailment',\n",
       "   'Bastedo was a vegetarian, which implies that she did not consume meat in her life.'),\n",
       "  6: ('contradiction',\n",
       "   'Jesse James was a guerrilla in the pro-Confederate forces during the American Civil War, as evidenced by his involvement in the Centralia Massacre alongside William T. Anderson.'),\n",
       "  7: ('entailment',\n",
       "   'Rhodochiton atrosanguineus is a species of the family Plantaginaceae according to the information provided.'),\n",
       "  8: ('entailment',\n",
       "   \"Paul Beard was the leader of Sir Thomas Beecham's original London Philharmonic Orchestra.\"),\n",
       "  9: ('neutral',\n",
       "   \"as there is no information provided about Paul Beard's involvement in songwriting or if he wrote any songs.\"),\n",
       "  10: ('contradiction',\n",
       "   \"There is no information provided that suggests Paul Beard wrote his first song at Sir Adrian Boult's BBC Symphony Orchestra.\"),\n",
       "  11: ('entailment',\n",
       "   'Rhodochiton atrosanguineus is native to southern Mexico and neighbouring Guatemala, indicating that it is native to more than one country.'),\n",
       "  12: ('neutral',\n",
       "   'The information provided does not indicate the salary of Paul Beard or compare it to other members of the orchestra.'),\n",
       "  13: ('entailment',\n",
       "   'The purple bell vine, Rhodochiton atrosanguineus, is native to southern Mexico and neighbouring Guatemala, indicating that it can be found in more than one country.'),\n",
       "  14: ('entailment',\n",
       "   'Paul Beard held teaching posts at the Royal Academy of Music and the Guildhall School of Music, indicating that he was a teacher for a significant portion of his life.'),\n",
       "  15: ('entailment',\n",
       "   'The 11th (Craigavon) Battalion, Ulster Defence Regiment was a military unit formed in 1972 and amalgamated with 2 UDR in 1991 to form the 2nd/11th Battalion Ulster Defence Regiment.'),\n",
       "  16: ('contradiction',\n",
       "   'as there is no evidence or information provided to support the claim that Noel Black directed many American teen sex comedy films.'),\n",
       "  17: ('entailment',\n",
       "   'The Craigavon Battalion, Ulster Defence Regiment was formed by merging companies from the 2nd and 3rd Battalions, Ulster Defence Regiment.'),\n",
       "  18: ('neutral',\n",
       "   'Without further information about the plot of the movie, it cannot be determined whether the main protagonist ends up having intercourse by the end of the movie.'),\n",
       "  19: ('entailment',\n",
       "   'The Craigavon battalion was amalgamated with 2nd Battalion Ulster Defence Regiment to form the 2nd/11th Battalion Ulster Defence Regiment in 1991.'),\n",
       "  20: ('neutral',\n",
       "   'The given information does not provide any specific details about the leadership structure or the nationality of the officer leading the Craigavon Battalion, Ulster Defence Regiment.'),\n",
       "  21: ('entailment',\n",
       "   'Phoebe Cates did indeed play the female lead in the film \"Private School.\"'),\n",
       "  22: ('neutral',\n",
       "   'as the information provided does not give any indication about whether the teenage couple in the movie ends up breaking up or not.'),\n",
       "  23: ('contradiction',\n",
       "   \"The claim is false because Henry Nevill's father, Sir George Nevill, was the 5th Baron of Bergavenny.\"),\n",
       "  24: ('contradiction',\n",
       "   'The information provided does not indicate any Scottish descent for Henry Nevill.'),\n",
       "  25: ('entailment',\n",
       "   \"Based on the information provided, Henry Nevill's father, Sir George Nevill, 5th Baron Bergavenny, died before Henry succeeded to the barony, indicating that he did live to see his son become a baron.\"),\n",
       "  26: ('contradiction',\n",
       "   'Henry Nevill was born between 1527 and 1535, which is within the 16th century.'),\n",
       "  27: ('neutral',\n",
       "   'The claim does not provide enough information to determine whether Will Vodery wrote a song in 1900.'),\n",
       "  28: ('neutral',\n",
       "   \"as the exact duration of Vodery's employment with Florenz Ziegfeld is not specified in the given information.\"),\n",
       "  29: ('contradiction',\n",
       "   'While Will Vodery was a prominent composer and arranger on Broadway, there is no evidence to suggest that he conducted most Broadway shows.'),\n",
       "  30: ('neutral',\n",
       "   \"as there is no specific information available to confirm or deny whether Will Vodery wrote Ziegfeld's first song.\"),\n",
       "  31: ('neutral',\n",
       "   'as there is no specific information provided to confirm or deny whether Will Vodery did at least 3 songs for Florenz Ziegfeld.'),\n",
       "  32: ('contradiction',\n",
       "   'The claim is false, as Trust Company Ltd. (株式会社トラスト) was actually founded in 1977.'),\n",
       "  33: ('neutral',\n",
       "   'The given information does not provide any details about the nationality of the CEO of Trust Company Ltd.'),\n",
       "  34: ('entailment',\n",
       "   'as Abesim is a town in the Sunyani Municipal District, which is part of the Brong-Ahafo Region where Sunyani is located.'),\n",
       "  35: ('entailment',\n",
       "   'Delirious? did release an album in 2002, although most of the songs on \"Touch\" were previously released on the album \"Audio Lessonover?\" in North America.'),\n",
       "  36: ('contradiction',\n",
       "   'The claim that New World was written by a Chinese man is false, as it was written and directed by Park Hoon-jung, a South Korean filmmaker.'),\n",
       "  37: ('entailment',\n",
       "   'as the given information states that the 1919 Washington State Cougars football team played during the 1919 college football season.'),\n",
       "  38: ('neutral',\n",
       "   'based on the given information as it does not explicitly state whether or not the album was released in the USA.'),\n",
       "  39: ('entailment',\n",
       "   'as the 1919 Washington State Cougars football team was the team that represented Washington State College during that season.')},\n",
       " 2: {0: ('contradiction',\n",
       "   'The hypothesis states that the trolleybus system has \"over 2 urban routes,\" but the premise clearly states that the system presently comprises \"four urban routes,\" which contradicts the hypothesis.'),\n",
       "  1: ('contradiction',\n",
       "   'The hypothesis contradicts the premise by stating that Sharron Macready was a popular character through the 1980s, while the premise only mentions her role in the 1968 series \"The Champions\".'),\n",
       "  2: ('neutral',\n",
       "   'The hypothesis does not contradict or entail the premise. The premise only states that Bastedo was a vegetarian and animal welfare advocate, but it does not provide any information about whether or not she kept pets.'),\n",
       "  3: ('neutral',\n",
       "   'The hypothesis does not contradict or entail the premise. It is a neutral statement that does not provide any information that contradicts or supports the premise.'),\n",
       "  4: ('entailment',\n",
       "   'The hypothesis \"Bastedo cared for all the animals that inhabit the earth\" logically follows from the premise that Bastedo was a vegetarian and animal welfare advocate.'),\n",
       "  5: ('contradiction',\n",
       "   'The hypothesis contradicts the premise by stating that Bastedo never ate meat, while the premise only mentions that she was a vegetarian.'),\n",
       "  6: ('contradiction',\n",
       "   'The hypothesis contradicts the premise because it states that Jesse James was a guerrilla in the Union army, while the premise states that he was among the pro-Confederate guerrillas.'),\n",
       "  7: ('entailment',\n",
       "   'The hypothesis is an accurate statement that directly entails the information mentioned in the premise.'),\n",
       "  8: ('entailment',\n",
       "   \"The hypothesis is an entailment because it directly states that Paul Beard started as the leader of the London Philharmonic Orchestra, which aligns with the premise that he was the leader of Sir Thomas Beecham's original London Philharmonic Orchestra.\"),\n",
       "  9: ('contradiction',\n",
       "   'The hypothesis contradicts the premise because it states that Paul Beard wrote his last song in 1989, but the premise mentions that he was a violinist and a teacher, without any mention of him being a songwriter.'),\n",
       "  10: ('contradiction',\n",
       "   \"The hypothesis contradicts the premise because it suggests that Paul Beard wrote his first song at Sir Adrian Boult's BBC Symphony Orchestra, but the premise does not mention anything about Paul Beard being a composer or writing songs.\"),\n",
       "  11: ('contradiction',\n",
       "   'The hypothesis contradicts the premise because the premise clearly states that Rhodochiton atrosanguineus is native to southern Mexico and neighbouring Guatemala, not more than one country.'),\n",
       "  12: ('neutral',\n",
       "   'The hypothesis does not contradict or entail the premise as it is not mentioned in the premise whether Paul Beard had the highest salary in the orchestra or not.'),\n",
       "  13: ('entailment',\n",
       "   'The premise states that Rhodochiton is native to southern Mexico and neighbouring Guatemala, which implies that the purple bell vine, a species of Rhodochiton, can be found in more than one country.'),\n",
       "  14: ('contradiction',\n",
       "   'The hypothesis contradicts the premise because while Paul Beard was indeed a teacher, he was also known for his leadership of orchestras.'),\n",
       "  15: ('entailment',\n",
       "   'The hypothesis is true because the premise explicitly states that The 11th (Craigavon) Battalion, Ulster Defence Regiment is a military unit.'),\n",
       "  16: ('contradiction',\n",
       "   'The premise states that Noel Black directed Private School, a teen sex comedy film, while the hypothesis suggests that Noel Black directed many American teen sex comedy films, which contradicts the information given in the premise.'),\n",
       "  17: ('entailment',\n",
       "   'The hypothesis is an entailment because it accurately states that the Craigavon Battalion is made up of two units, which is consistent with the premise.'),\n",
       "  18: ('neutral',\n",
       "   'The premise only mentions that the movie follows a teenaged couple attempting to have sex for the first time, but it does not specify whether or not they are successful in doing so. The hypothesis does not contradict or entail this information.'),\n",
       "  19: ('entailment',\n",
       "   'The hypothesis states that the Craigavon battalion was put into another unit, which is consistent with the premise that it amalgamated with 2 UDR to form the 2nd/11th Battalion Ulster Defence Regiment.'),\n",
       "  20: ('contradiction',\n",
       "   'The premise states that the Craigavon Battalion was formed from companies of the Ulster Defence Regiment, while the hypothesis states that it is led by a British officer, which contradicts the premise as it suggests a different leadership origin.'),\n",
       "  21: ('entailment',\n",
       "   'The hypothesis is an entailment because it directly states that Phoebe Cates played the female lead in \"Private School,\" which is consistent with the premise mentioning that the film starred Phoebe Cates.'),\n",
       "  22: ('neutral',\n",
       "   'The hypothesis does not contradict or entail the premise because it does not provide any information that contradicts or supports the premise.'),\n",
       "  23: ('contradiction',\n",
       "   \"The hypothesis states that Henry Nevill's father was the 6th Baron of Bergavenny, which contradicts the premise that Henry Nevill's father was actually the 5th Baron of Bergavenny.\"),\n",
       "  24: ('contradiction',\n",
       "   'The premise clearly states that Henry Nevill was English, while the hypothesis claims he was of Scottish descent.'),\n",
       "  25: ('entailment',\n",
       "   \"The hypothesis implies that Henry Nevill's father was alive when he became a baron, which is consistent with the premise.\"),\n",
       "  26: ('contradiction',\n",
       "   'The hypothesis contradicts the premise because the premise states that Henry Nevill was born between 1527 and 1535, while the hypothesis states that he was born in the 15th century.'),\n",
       "  27: ('contradiction',\n",
       "   'The premise states that Will Vodery made a name for himself on Broadway, but the hypothesis contradicts that by claiming he wrote a song in 1900, which implies he was already known as a composer at that time.'),\n",
       "  28: ('entailment',\n",
       "   'The hypothesis states that Will Vodery worked for Florenz Ziegfeld for a decade, which is consistent with the premise that he worked largely for Florenz Ziegfeld.'),\n",
       "  29: ('contradiction',\n",
       "   'The hypothesis contradicts the premise because it states that Will Vodery conducted most Broadway shows, while the premise only mentions that he made a name for himself as a composer on Broadway.'),\n",
       "  30: ('contradiction',\n",
       "   \"The hypothesis contradicts the premise because it states that Will Vodery wrote Ziegfeld's first song, while the premise only mentions that he worked for Florenz Ziegfeld as a composer.\"),\n",
       "  31: ('contradiction',\n",
       "   'The hypothesis contradicts the premise because it states that Will Vodery did at least 3 songs for Florenz Ziegfeld, while the premise only mentions that he worked largely for Florenz Ziegfeld without specifying the number of songs.'),\n",
       "  32: ('contradiction',\n",
       "   \"The hypothesis contradicts the premise because it states that Trust Company Ltd. was founded in 2002, while the premise does not provide any information about the company's founding year.\"),\n",
       "  33: ('contradiction',\n",
       "   'The premise states that Trust Company Ltd. is a Japanese company, while the hypothesis suggests that its CEO is Korean.'),\n",
       "  34: ('entailment',\n",
       "   'The hypothesis \"Abesim is known to be in Sunyani\" is an entailment because it is directly stated in the premise that Abesim is a town in Sunyani Municipal District.'),\n",
       "  35: ('entailment',\n",
       "   'The hypothesis is an accurate restatement of the premise, confirming that Delirious? released an album in 2002.'),\n",
       "  36: ('contradiction',\n",
       "   'The premise states that \"New World\" was written and directed by Park Hoon-jung, not a Chinese man.'),\n",
       "  37: ('entailment',\n",
       "   'The hypothesis entails the premise because it directly states that the cougars played during 1919, which aligns with the information provided in the premise.'),\n",
       "  38: ('contradiction',\n",
       "   'The hypothesis contradicts the premise because the premise states that \"Audio Lessonover?\" was released in North America, while the hypothesis states that \"Audio Lessonover\" was put out in the USA.'),\n",
       "  39: ('contradiction',\n",
       "   'The hypothesis contradicts the premise by stating that the Cougars represented Washington State College only once, while the premise states that the 1919 team represented the college.')}}"
      ]
     },
     "execution_count": 3,
     "metadata": {},
     "output_type": "execute_result"
    }
   ],
   "source": [
    "tw.write_teacher_responses(split=\"train\", prompt_template_id_mix=mix, n=10)"
   ]
  }
 ],
 "metadata": {
  "kernelspec": {
   "display_name": ".venv",
   "language": "python",
   "name": "python3"
  },
  "language_info": {
   "codemirror_mode": {
    "name": "ipython",
    "version": 3
   },
   "file_extension": ".py",
   "mimetype": "text/x-python",
   "name": "python",
   "nbconvert_exporter": "python",
   "pygments_lexer": "ipython3",
   "version": "3.8.10"
  },
  "orig_nbformat": 4
 },
 "nbformat": 4,
 "nbformat_minor": 2
}
